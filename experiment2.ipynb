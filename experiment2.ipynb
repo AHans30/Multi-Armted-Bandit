{
 "cells": [
  {
   "cell_type": "code",
   "execution_count": 336,
   "id": "c4072289-61b3-4c68-ae82-2d0160cdc3c8",
   "metadata": {},
   "outputs": [],
   "source": [
    "import numpy as np\n",
    "import seaborn as sns\n",
    "import matplotlib.pyplot as plt"
   ]
  },
  {
   "cell_type": "code",
   "execution_count": 337,
   "id": "c16df100-e837-4589-bf2c-b38c20f67619",
   "metadata": {},
   "outputs": [],
   "source": [
    "np.random.seed(42)"
   ]
  },
  {
   "cell_type": "code",
   "execution_count": 338,
   "id": "7b5c22a5-e62a-4586-833a-42a65f9f5494",
   "metadata": {},
   "outputs": [],
   "source": [
    "k = 10"
   ]
  },
  {
   "cell_type": "code",
   "execution_count": 339,
   "id": "c3272c7f-e605-4b6f-8ce3-990969df01ec",
   "metadata": {},
   "outputs": [
    {
     "data": {
      "text/plain": [
       "array([-0.25091976,  0.90142861,  0.46398788,  0.19731697, -0.68796272,\n",
       "       -0.68801096, -0.88383278,  0.73235229,  0.20223002,  0.41614516])"
      ]
     },
     "execution_count": 339,
     "metadata": {},
     "output_type": "execute_result"
    }
   ],
   "source": [
    "# actual_mean = np.array([0.5, -0.8, 1.8, 1, 1.5, -1.4, -0.2, -1, 0.8, -0.3])\n",
    "actual_mean = np.random.uniform(-1,1, k)\n",
    "optimal_arm = np.argmax(actual_mean)\n",
    "actual_mean"
   ]
  },
  {
   "cell_type": "code",
   "execution_count": 340,
   "id": "55789b06-6efd-408f-a4bf-435d57c1cc89",
   "metadata": {},
   "outputs": [
    {
     "data": {
      "text/plain": [
       "-0.9444352741820461"
      ]
     },
     "execution_count": 340,
     "metadata": {},
     "output_type": "execute_result"
    }
   ],
   "source": [
    "def draw(k):\n",
    "    return np.random.normal(actual_mean[k], 3)\n",
    "draw(2)"
   ]
  },
  {
   "cell_type": "code",
   "execution_count": 347,
   "id": "1984cb78-1272-45b2-926c-546bf1dc955f",
   "metadata": {},
   "outputs": [],
   "source": [
    "initial_value = [None for _ in range(len(actual_mean))]\n",
    "\n",
    "for arm in range(k):\n",
    "    initial_value[arm] = np.array([draw(arm) for _ in range(1)]).mean()\n",
    "    \n",
    "# estimated_value = np.array([0] * k)"
   ]
  },
  {
   "cell_type": "code",
   "execution_count": 351,
   "id": "7df948b6-f9be-4b92-92e8-acbfada49cff",
   "metadata": {},
   "outputs": [
    {
     "data": {
      "text/plain": [
       "(1000, 1000)"
      ]
     },
     "execution_count": 351,
     "metadata": {},
     "output_type": "execute_result"
    }
   ],
   "source": [
    "len(run(T = 1000, initial_value = initial_value, strategy = 'greedy')) , len(run(T = 1000, initial_value = initial_value))"
   ]
  },
  {
   "cell_type": "code",
   "execution_count": 359,
   "id": "3d3cbb82-2f0c-446c-bc92-ffcf63c1b909",
   "metadata": {},
   "outputs": [],
   "source": [
    "def k_arms_testbed(T = 1000, epsilon = 0.1, initial_value = [0] * k, strategy = 'epsilon-greedy'):\n",
    "\n",
    "    arms_pulled_frequency = dict(zip(range(10), [1]*k))\n",
    "    estimated_value = initial_value\n",
    "\n",
    "    total_reward_collected = 0\n",
    "    avg_reward = []\n",
    "\n",
    "    for t in range(1, T+1):\n",
    "        \n",
    "        choice = choice = np.random.choice(['Explore', 'Exploit'], p = [epsilon, 1-epsilon]) #epsilon-greedy by default\n",
    "        if strategy == 'greedy':\n",
    "            choice = 'Exploit'\n",
    "\n",
    "        if choice == 'Exploit':\n",
    "            arm_selected = np.argmax(estimated_value)    \n",
    "        elif choice == 'Explore':\n",
    "            arm_selected = np.random.choice(range(0, k))\n",
    "\n",
    "        arms_pulled_frequency[arm_selected] += 1\n",
    "\n",
    "        step_size = 1 / arms_pulled_frequency[arm_selected] # Sample average method for action value estimation (i.e. Q (a)) \n",
    "        # step_size = 0.5 # Constant step size for exponential recency-weighted average, used for non-stationaery cases\n",
    "\n",
    "        payout = draw(arm_selected)\n",
    "        total_reward_collected += payout\n",
    "        avg_reward.append(total_reward_collected / t)\n",
    "\n",
    "        #update value estimation based on payout\n",
    "        estimated_value[arm_selected] = estimated_value[arm_selected] + step_size * (payout - estimated_value[arm_selected])\n",
    "\n",
    "    return avg_reward"
   ]
  },
  {
   "cell_type": "code",
   "execution_count": 370,
   "id": "03bf37f4-6e14-492f-96a1-3ab705533293",
   "metadata": {},
   "outputs": [
    {
     "data": {
      "text/plain": [
       "array([[3.75, 3.5 , 2.  ]])"
      ]
     },
     "execution_count": 370,
     "metadata": {},
     "output_type": "execute_result"
    }
   ],
   "source": [
    "a = [1, 2, 3]\n",
    "b = [3, 2, 1]\n",
    "c = [10, 2, -3]\n",
    "d = [1, 8, 7]\n",
    "\n",
    "cache = np.array([a]) + np.array([b])\n",
    "cache = cache + np.array(c)\n",
    "cache = cache + np.array(d)\n",
    "cache / 4"
   ]
  },
  {
   "cell_type": "code",
   "execution_count": 360,
   "id": "f54fa450-0163-45e4-a3ed-71eae7f9baa5",
   "metadata": {},
   "outputs": [
    {
     "data": {
      "image/png": "[encoded data removed]",
      "text/plain": [
       "<Figure size 640x480 with 1 Axes>"
      ]
     },
     "metadata": {},
     "output_type": "display_data"
    }
   ],
   "source": [
    "T = 1000\n",
    "plt.plot(range(T), k_arms_testbed(T, initial_value = initial_value, strategy = 'epsilon-greedy'))\n",
    "plt.plot(range(T), k_arms_testbed(T, initial_value = initial_value, strategy = 'greedy'), '--')\n",
    "plt.show()"
   ]
  },
  {
   "cell_type": "code",
   "execution_count": null,
   "id": "b51d0853-0205-44dc-b9e4-d033eef0de51",
   "metadata": {},
   "outputs": [],
   "source": []
  }
 ],
 "metadata": {
  "kernelspec": {
   "display_name": "Python 3 (ipykernel)",
   "language": "python",
   "name": "python3"
  },
  "language_info": {
   "codemirror_mode": {
    "name": "ipython",
    "version": 3
   },
   "file_extension": ".py",
   "mimetype": "text/x-python",
   "name": "python",
   "nbconvert_exporter": "python",
   "pygments_lexer": "ipython3",
   "version": "3.10.9"
  }
 },
 "nbformat": 4,
 "nbformat_minor": 5
}
